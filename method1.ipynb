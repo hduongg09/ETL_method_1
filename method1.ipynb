{
 "cells": [
  {
   "cell_type": "code",
   "execution_count": null,
   "id": "04c1bb2e-d172-459c-803d-cc8fdee56f02",
   "metadata": {},
   "outputs": [],
   "source": [
    "import os\n",
    "from datetime import datetime, timedelta\n",
    "from pyspark.sql.session import SparkSession\n",
    "from pyspark.sql.functions import *"
   ]
  },
  {
   "cell_type": "code",
   "execution_count": null,
   "id": "9ad337ef-b450-420b-b646-c20af5ddcd18",
   "metadata": {
    "scrolled": true
   },
   "outputs": [],
   "source": [
    "spark = SparkSession.builder.config(\"spark.driver.memory\", \"8g\").getOrCreate()\n",
    "\n",
    "\n",
    "def read_data(path):\n",
    "    return spark.read.json(path)\n",
    "\n",
    "def select_fields(df):\n",
    "    return df.select(\"_source.*\")\n",
    "\n",
    "def calculate_devices(df):\n",
    "    total_devices = df.select(\"Contract\", \"Mac\").groupBy(\"Contract\").count()\n",
    "    return total_devices.withColumnRenamed(\"count\", \"TotalDevices\")\n",
    "\n",
    "def transform_category(df):\n",
    "    return df.withColumn(\n",
    "        \"Type\",\n",
    "        when(col(\"AppName\").isin('CHANNEL', 'DSHD', 'KPLUS', 'KPlus'), \"Truyền Hình\")\n",
    "        .when(col(\"AppName\").isin('VOD', 'FIMS_RES', 'BHD_RES', 'VOD_RES', 'FIMS', 'BHD', 'DANET'), \"Phim Truyện\")\n",
    "        .when(col(\"AppName\") == 'RELAX', \"Giải Trí\")\n",
    "        .when(col(\"AppName\") == 'CHILD', \"Thiếu Nhi\")\n",
    "        .when(col(\"AppName\") == 'SPORT', \"Thể Thao\")\n",
    "        .otherwise(\"Error\")\n",
    "    )\n",
    "\n",
    "def calculate_statistics(df):\n",
    "    statistics = df.select('Contract', 'TotalDuration', 'Type').groupBy('Contract', 'Type').sum()\n",
    "    statistics = statistics.withColumnRenamed('sum(TotalDuration)', 'TotalDuration')\n",
    "    statistics = statistics.groupBy('Contract').pivot('Type').sum('TotalDuration').na.fill(0)\n",
    "    return statistics\n",
    "\n",
    "def finalize_result(statistics, total_devices):\n",
    "    return statistics.join(total_devices, 'Contract', 'inner')\n",
    "\n",
    "def save_data(result, save_path):\n",
    "    result.repartition(1).write.mode('overwrite').option(\"header\", \"true\").csv(save_path)\n",
    "    print(\"Data Saved Successfully\")\n",
    "\n",
    "def etl_1_day(path):\n",
    "    print(f'--- ETL for {path} ---')\n",
    "    df = read_data(path)\n",
    "    df = select_fields(df)\n",
    "    total_devices = calculate_devices(df)\n",
    "    df = transform_category(df)\n",
    "    statistics = calculate_statistics(df)\n",
    "    return finalize_result(statistics, total_devices)"
   ]
  },
  {
   "cell_type": "code",
   "execution_count": null,
   "id": "f1127453-138d-4dad-bb98-b25cd5b04f86",
   "metadata": {},
   "outputs": [],
   "source": [
    "def main(input_path, output_path, start_date, to_date):\n",
    "    start_date = datetime.strptime(start_date, '%Y%m%d').date()\n",
    "    to_date = datetime.strptime(to_date, '%Y%m%d').date()\n",
    "\n",
    "    date_list = []\n",
    "    current_date = start_date\n",
    "    while current_date <= to_date:\n",
    "        date_list.append(current_date.strftime('%Y%m%d'))\n",
    "        current_date += timedelta(days=1)\n",
    "\n",
    "    print(\"Processing dates:\", date_list)\n",
    "\n",
    "    start_time = datetime.now()\n",
    "    df = etl_1_day(os.path.join(input_path, date_list[0] + '.json'))\n",
    "    for i in date_list[1:]:\n",
    "        print(f\"--- ETL task for {i} ---\")\n",
    "        new_df = etl_1_day(os.path.join(input_path, i + '.json'))\n",
    "        new_df = new_df.select('Contract', 'Giải Trí', 'Phim Truyện', 'Thiếu Nhi', 'Thể Thao', 'Truyền Hình', 'TotalDevices')\n",
    "        df = df.union(new_df)\n",
    "        df.cache()\n",
    "    print(\"Calculation on final output\")\n",
    "    result = df.groupBy(\"Contract\").sum()\n",
    "    result.show()\n",
    "    save_data(result, output_path)\n",
    "    end_time = datetime.now()\n",
    "    print(\"Total time (s):\", (end_time - start_time).total_seconds())\n",
    "    "
   ]
  },
  {
   "cell_type": "code",
   "execution_count": null,
   "id": "6417c201-3bfc-41f3-a950-cd30c3a7887e",
   "metadata": {},
   "outputs": [],
   "source": [
    "if __name__ == \"__main__\":\n",
    "    input_path = 'D:/study/dataset/log_content/'\n",
    "    output_path = 'D:/study/dataset/output/'\n",
    "    start_date = input('Please input start_date format yyyymmdd: ')\n",
    "    to_date = input('Please input to_date format yyyymmdd: ')\n",
    "    main(input_path, output_path, start_date, to_date)"
   ]
  }
 ],
 "metadata": {
  "kernelspec": {
   "display_name": "Python 3 (ipykernel)",
   "language": "python",
   "name": "python3"
  },
  "language_info": {
   "codemirror_mode": {
    "name": "ipython",
    "version": 3
   },
   "file_extension": ".py",
   "mimetype": "text/x-python",
   "name": "python",
   "nbconvert_exporter": "python",
   "pygments_lexer": "ipython3",
   "version": "3.9.13"
  }
 },
 "nbformat": 4,
 "nbformat_minor": 5
}
